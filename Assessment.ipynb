{
 "cells": [
  {
   "cell_type": "markdown",
   "metadata": {},
   "source": [
    "# OCOM510M Data Science: Assessment 2"
   ]
  },
  {
   "cell_type": "markdown",
   "metadata": {},
   "source": [
    "Student ID:"
   ]
  },
  {
   "cell_type": "markdown",
   "metadata": {},
   "source": [
    "## 1. Aims, objectives and plan\n",
    "Although we have already stated what is required, please formally state the aims and objectives of the project in your own words. 100-200 words.\n",
    "\n",
    "Please demonstrate how you have conducted the project with a simple Gantt chart."
   ]
  },
  {
   "cell_type": "markdown",
   "metadata": {},
   "source": [
    "## 🧠 Problem Definition\n",
    "\n",
    "An insurance company wants to leverage its historical claim data to predict whether a claim is fraudulent or genuine. The goal is to develop a predictive model that can **flag potential fraud cases for referral**, minimizing both:\n",
    "\n",
    "- **False Positives** (referring genuine claims, which causes customer loss and stress)\n",
    "- **False Negatives** (failing to detect fraudulent claims, which leads to financial loss)\n",
    "\n",
    "A balanced and unbiased model is required, ideally achieving a **balanced error rate close to 5%**.\n",
    "\n",
    "The business also seeks to quantify the **financial impact of model prediction errors**, particularly the cost associated with **losing customers (FP)** and **paying fraudulent claims (FN)**. This will be done using a pricing model based on average claim value, claim rate, and company overhead.\n",
    "\n",
    "---\n",
    "\n",
    "## 🔧 Techniques Used\n",
    "\n",
    "### 1. Logistic Regression (Baseline Classification Model)\n",
    "\n",
    "- A simple, interpretable, and widely-used model for binary classification.\n",
    "- Outputs probability scores that allow threshold tuning for better trade-offs between false positives and false negatives.\n",
    "- Used to establish a baseline for performance.\n",
    "- Evaluation metrics include confusion matrix, precision, recall, F1-score, and ROC-AUC.\n",
    "\n",
    "### 2. Random Forest Classifier (Ensemble Model)\n",
    "\n",
    "- A powerful tree-based ensemble method that handles non-linear patterns and mixed data types well.\n",
    "- Less prone to overfitting compared to individual decision trees.\n",
    "- Can manage imbalanced datasets with built-in support for class weighting.\n",
    "- Provides feature importance scores for interpretability.\n",
    "- Performance is evaluated using the same metrics as Logistic Regression, with a focus on minimizing business impact through cost analysis of false positives and false negatives.\n",
    "\n"
   ]
  },
  {
   "cell_type": "code",
   "execution_count": 90,
   "metadata": {},
   "outputs": [],
   "source": [
    "import numpy as np\n",
    "import pandas as pd\n",
    "from pandas import DataFrame\n",
    "from IPython.display import display\n",
    "from functools import reduce\n",
    "import matplotlib.pyplot as plt"
   ]
  },
  {
   "cell_type": "code",
   "execution_count": null,
   "metadata": {},
   "outputs": [],
   "source": []
  },
  {
   "cell_type": "code",
   "execution_count": 91,
   "metadata": {},
   "outputs": [
    {
     "data": {
      "text/html": [
       "<div>\n",
       "<style scoped>\n",
       "    .dataframe tbody tr th:only-of-type {\n",
       "        vertical-align: middle;\n",
       "    }\n",
       "\n",
       "    .dataframe tbody tr th {\n",
       "        vertical-align: top;\n",
       "    }\n",
       "\n",
       "    .dataframe thead th {\n",
       "        text-align: right;\n",
       "    }\n",
       "</style>\n",
       "<table border=\"1\" class=\"dataframe\">\n",
       "  <thead>\n",
       "    <tr style=\"text-align: right;\">\n",
       "      <th></th>\n",
       "      <th>CustomerID</th>\n",
       "      <th>DateOfIncident</th>\n",
       "      <th>TypeOfIncident</th>\n",
       "      <th>TypeOfCollission</th>\n",
       "      <th>SeverityOfIncident</th>\n",
       "      <th>AuthoritiesContacted</th>\n",
       "      <th>IncidentState</th>\n",
       "      <th>IncidentCity</th>\n",
       "      <th>IncidentAddress</th>\n",
       "      <th>IncidentTime</th>\n",
       "      <th>NumberOfVehicles</th>\n",
       "      <th>PropertyDamage</th>\n",
       "      <th>BodilyInjuries</th>\n",
       "      <th>Witnesses</th>\n",
       "      <th>PoliceReport</th>\n",
       "      <th>AmountOfTotalClaim</th>\n",
       "      <th>AmountOfInjuryClaim</th>\n",
       "      <th>AmountOfPropertyClaim</th>\n",
       "      <th>AmountOfVehicleDamage</th>\n",
       "    </tr>\n",
       "  </thead>\n",
       "  <tbody>\n",
       "    <tr>\n",
       "      <th>0</th>\n",
       "      <td>Cust10000</td>\n",
       "      <td>2015-02-03</td>\n",
       "      <td>Multi-vehicle Collision</td>\n",
       "      <td>Side Collision</td>\n",
       "      <td>Total Loss</td>\n",
       "      <td>Police</td>\n",
       "      <td>State7</td>\n",
       "      <td>City1</td>\n",
       "      <td>Location 1311</td>\n",
       "      <td>17</td>\n",
       "      <td>3</td>\n",
       "      <td>?</td>\n",
       "      <td>1</td>\n",
       "      <td>0</td>\n",
       "      <td>?</td>\n",
       "      <td>65501</td>\n",
       "      <td>13417</td>\n",
       "      <td>6071</td>\n",
       "      <td>46013</td>\n",
       "    </tr>\n",
       "    <tr>\n",
       "      <th>1</th>\n",
       "      <td>Cust10001</td>\n",
       "      <td>2015-02-02</td>\n",
       "      <td>Multi-vehicle Collision</td>\n",
       "      <td>Side Collision</td>\n",
       "      <td>Total Loss</td>\n",
       "      <td>Police</td>\n",
       "      <td>State7</td>\n",
       "      <td>City5</td>\n",
       "      <td>Location 1311</td>\n",
       "      <td>10</td>\n",
       "      <td>3</td>\n",
       "      <td>YES</td>\n",
       "      <td>2</td>\n",
       "      <td>1</td>\n",
       "      <td>YES</td>\n",
       "      <td>61382</td>\n",
       "      <td>15560</td>\n",
       "      <td>5919</td>\n",
       "      <td>39903</td>\n",
       "    </tr>\n",
       "    <tr>\n",
       "      <th>2</th>\n",
       "      <td>Cust10002</td>\n",
       "      <td>2015-01-15</td>\n",
       "      <td>Single Vehicle Collision</td>\n",
       "      <td>Side Collision</td>\n",
       "      <td>Minor Damage</td>\n",
       "      <td>Other</td>\n",
       "      <td>State8</td>\n",
       "      <td>City6</td>\n",
       "      <td>Location 2081</td>\n",
       "      <td>22</td>\n",
       "      <td>1</td>\n",
       "      <td>YES</td>\n",
       "      <td>2</td>\n",
       "      <td>3</td>\n",
       "      <td>NO</td>\n",
       "      <td>66755</td>\n",
       "      <td>11630</td>\n",
       "      <td>11630</td>\n",
       "      <td>43495</td>\n",
       "    </tr>\n",
       "    <tr>\n",
       "      <th>3</th>\n",
       "      <td>Cust10003</td>\n",
       "      <td>2015-01-19</td>\n",
       "      <td>Single Vehicle Collision</td>\n",
       "      <td>Side Collision</td>\n",
       "      <td>Minor Damage</td>\n",
       "      <td>Other</td>\n",
       "      <td>State9</td>\n",
       "      <td>City6</td>\n",
       "      <td>Location 2081</td>\n",
       "      <td>22</td>\n",
       "      <td>1</td>\n",
       "      <td>YES</td>\n",
       "      <td>2</td>\n",
       "      <td>3</td>\n",
       "      <td>NO</td>\n",
       "      <td>66243</td>\n",
       "      <td>12003</td>\n",
       "      <td>12003</td>\n",
       "      <td>42237</td>\n",
       "    </tr>\n",
       "    <tr>\n",
       "      <th>4</th>\n",
       "      <td>Cust10004</td>\n",
       "      <td>2015-01-09</td>\n",
       "      <td>Single Vehicle Collision</td>\n",
       "      <td>Rear Collision</td>\n",
       "      <td>Minor Damage</td>\n",
       "      <td>Fire</td>\n",
       "      <td>State8</td>\n",
       "      <td>City6</td>\n",
       "      <td>Location 1695</td>\n",
       "      <td>10</td>\n",
       "      <td>1</td>\n",
       "      <td>NO</td>\n",
       "      <td>2</td>\n",
       "      <td>1</td>\n",
       "      <td>YES</td>\n",
       "      <td>53544</td>\n",
       "      <td>8829</td>\n",
       "      <td>7234</td>\n",
       "      <td>37481</td>\n",
       "    </tr>\n",
       "  </tbody>\n",
       "</table>\n",
       "</div>"
      ],
      "text/plain": [
       "  CustomerID DateOfIncident            TypeOfIncident TypeOfCollission  \\\n",
       "0  Cust10000     2015-02-03   Multi-vehicle Collision   Side Collision   \n",
       "1  Cust10001     2015-02-02   Multi-vehicle Collision   Side Collision   \n",
       "2  Cust10002     2015-01-15  Single Vehicle Collision   Side Collision   \n",
       "3  Cust10003     2015-01-19  Single Vehicle Collision   Side Collision   \n",
       "4  Cust10004     2015-01-09  Single Vehicle Collision   Rear Collision   \n",
       "\n",
       "  SeverityOfIncident AuthoritiesContacted IncidentState IncidentCity  \\\n",
       "0         Total Loss               Police        State7        City1   \n",
       "1         Total Loss               Police        State7        City5   \n",
       "2       Minor Damage                Other        State8        City6   \n",
       "3       Minor Damage                Other        State9        City6   \n",
       "4       Minor Damage                 Fire        State8        City6   \n",
       "\n",
       "  IncidentAddress  IncidentTime  NumberOfVehicles PropertyDamage  \\\n",
       "0   Location 1311            17                 3              ?   \n",
       "1   Location 1311            10                 3            YES   \n",
       "2   Location 2081            22                 1            YES   \n",
       "3   Location 2081            22                 1            YES   \n",
       "4   Location 1695            10                 1             NO   \n",
       "\n",
       "   BodilyInjuries Witnesses PoliceReport AmountOfTotalClaim  \\\n",
       "0               1         0            ?              65501   \n",
       "1               2         1          YES              61382   \n",
       "2               2         3           NO              66755   \n",
       "3               2         3           NO              66243   \n",
       "4               2         1          YES              53544   \n",
       "\n",
       "   AmountOfInjuryClaim  AmountOfPropertyClaim  AmountOfVehicleDamage  \n",
       "0                13417                   6071                  46013  \n",
       "1                15560                   5919                  39903  \n",
       "2                11630                  11630                  43495  \n",
       "3                12003                  12003                  42237  \n",
       "4                 8829                   7234                  37481  "
      ]
     },
     "metadata": {},
     "output_type": "display_data"
    },
    {
     "data": {
      "text/html": [
       "<div>\n",
       "<style scoped>\n",
       "    .dataframe tbody tr th:only-of-type {\n",
       "        vertical-align: middle;\n",
       "    }\n",
       "\n",
       "    .dataframe tbody tr th {\n",
       "        vertical-align: top;\n",
       "    }\n",
       "\n",
       "    .dataframe thead th {\n",
       "        text-align: right;\n",
       "    }\n",
       "</style>\n",
       "<table border=\"1\" class=\"dataframe\">\n",
       "  <thead>\n",
       "    <tr style=\"text-align: right;\">\n",
       "      <th></th>\n",
       "      <th>CustomerID</th>\n",
       "      <th>InsuredAge</th>\n",
       "      <th>InsuredZipCode</th>\n",
       "      <th>InsuredGender</th>\n",
       "      <th>InsuredEducationLevel</th>\n",
       "      <th>InsuredOccupation</th>\n",
       "      <th>InsuredHobbies</th>\n",
       "      <th>CapitalGains</th>\n",
       "      <th>CapitalLoss</th>\n",
       "      <th>Country</th>\n",
       "    </tr>\n",
       "  </thead>\n",
       "  <tbody>\n",
       "    <tr>\n",
       "      <th>0</th>\n",
       "      <td>Cust10000</td>\n",
       "      <td>35</td>\n",
       "      <td>454776</td>\n",
       "      <td>MALE</td>\n",
       "      <td>JD</td>\n",
       "      <td>armed-forces</td>\n",
       "      <td>movies</td>\n",
       "      <td>56700</td>\n",
       "      <td>-48500</td>\n",
       "      <td>India</td>\n",
       "    </tr>\n",
       "    <tr>\n",
       "      <th>1</th>\n",
       "      <td>Cust10001</td>\n",
       "      <td>36</td>\n",
       "      <td>454776</td>\n",
       "      <td>MALE</td>\n",
       "      <td>JD</td>\n",
       "      <td>tech-support</td>\n",
       "      <td>cross-fit</td>\n",
       "      <td>70600</td>\n",
       "      <td>-48500</td>\n",
       "      <td>India</td>\n",
       "    </tr>\n",
       "    <tr>\n",
       "      <th>2</th>\n",
       "      <td>Cust10002</td>\n",
       "      <td>33</td>\n",
       "      <td>603260</td>\n",
       "      <td>MALE</td>\n",
       "      <td>JD</td>\n",
       "      <td>armed-forces</td>\n",
       "      <td>polo</td>\n",
       "      <td>66400</td>\n",
       "      <td>-63700</td>\n",
       "      <td>India</td>\n",
       "    </tr>\n",
       "    <tr>\n",
       "      <th>3</th>\n",
       "      <td>Cust10003</td>\n",
       "      <td>36</td>\n",
       "      <td>474848</td>\n",
       "      <td>MALE</td>\n",
       "      <td>JD</td>\n",
       "      <td>armed-forces</td>\n",
       "      <td>polo</td>\n",
       "      <td>47900</td>\n",
       "      <td>-73400</td>\n",
       "      <td>India</td>\n",
       "    </tr>\n",
       "    <tr>\n",
       "      <th>4</th>\n",
       "      <td>Cust10004</td>\n",
       "      <td>29</td>\n",
       "      <td>457942</td>\n",
       "      <td>FEMALE</td>\n",
       "      <td>High School</td>\n",
       "      <td>exec-managerial</td>\n",
       "      <td>dancing</td>\n",
       "      <td>0</td>\n",
       "      <td>-41500</td>\n",
       "      <td>India</td>\n",
       "    </tr>\n",
       "  </tbody>\n",
       "</table>\n",
       "</div>"
      ],
      "text/plain": [
       "  CustomerID  InsuredAge  InsuredZipCode InsuredGender InsuredEducationLevel  \\\n",
       "0  Cust10000          35          454776          MALE                    JD   \n",
       "1  Cust10001          36          454776          MALE                    JD   \n",
       "2  Cust10002          33          603260          MALE                    JD   \n",
       "3  Cust10003          36          474848          MALE                    JD   \n",
       "4  Cust10004          29          457942        FEMALE           High School   \n",
       "\n",
       "  InsuredOccupation InsuredHobbies  CapitalGains  CapitalLoss Country  \n",
       "0      armed-forces         movies         56700       -48500   India  \n",
       "1      tech-support      cross-fit         70600       -48500   India  \n",
       "2      armed-forces           polo         66400       -63700   India  \n",
       "3      armed-forces           polo         47900       -73400   India  \n",
       "4   exec-managerial        dancing             0       -41500   India  "
      ]
     },
     "metadata": {},
     "output_type": "display_data"
    },
    {
     "data": {
      "text/html": [
       "<div>\n",
       "<style scoped>\n",
       "    .dataframe tbody tr th:only-of-type {\n",
       "        vertical-align: middle;\n",
       "    }\n",
       "\n",
       "    .dataframe tbody tr th {\n",
       "        vertical-align: top;\n",
       "    }\n",
       "\n",
       "    .dataframe thead th {\n",
       "        text-align: right;\n",
       "    }\n",
       "</style>\n",
       "<table border=\"1\" class=\"dataframe\">\n",
       "  <thead>\n",
       "    <tr style=\"text-align: right;\">\n",
       "      <th></th>\n",
       "      <th>InsurancePolicyNumber</th>\n",
       "      <th>CustomerLoyaltyPeriod</th>\n",
       "      <th>DateOfPolicyCoverage</th>\n",
       "      <th>InsurancePolicyState</th>\n",
       "      <th>Policy_CombinedSingleLimit</th>\n",
       "      <th>Policy_Deductible</th>\n",
       "      <th>PolicyAnnualPremium</th>\n",
       "      <th>UmbrellaLimit</th>\n",
       "      <th>InsuredRelationship</th>\n",
       "      <th>CustomerID</th>\n",
       "    </tr>\n",
       "  </thead>\n",
       "  <tbody>\n",
       "    <tr>\n",
       "      <th>0</th>\n",
       "      <td>110122</td>\n",
       "      <td>328</td>\n",
       "      <td>2014-10-17</td>\n",
       "      <td>State3</td>\n",
       "      <td>250/500</td>\n",
       "      <td>1000</td>\n",
       "      <td>1406.91</td>\n",
       "      <td>0</td>\n",
       "      <td>husband</td>\n",
       "      <td>Cust1001</td>\n",
       "    </tr>\n",
       "    <tr>\n",
       "      <th>1</th>\n",
       "      <td>110125</td>\n",
       "      <td>256</td>\n",
       "      <td>1990-05-25</td>\n",
       "      <td>State1</td>\n",
       "      <td>250/500</td>\n",
       "      <td>2000</td>\n",
       "      <td>1415.74</td>\n",
       "      <td>6000000</td>\n",
       "      <td>unmarried</td>\n",
       "      <td>Cust1004</td>\n",
       "    </tr>\n",
       "    <tr>\n",
       "      <th>2</th>\n",
       "      <td>110126</td>\n",
       "      <td>228</td>\n",
       "      <td>2014-06-06</td>\n",
       "      <td>State1</td>\n",
       "      <td>500/1000</td>\n",
       "      <td>1000</td>\n",
       "      <td>1583.91</td>\n",
       "      <td>6000000</td>\n",
       "      <td>unmarried</td>\n",
       "      <td>Cust1005</td>\n",
       "    </tr>\n",
       "    <tr>\n",
       "      <th>3</th>\n",
       "      <td>110127</td>\n",
       "      <td>256</td>\n",
       "      <td>2006-10-12</td>\n",
       "      <td>State3</td>\n",
       "      <td>250/500</td>\n",
       "      <td>1000</td>\n",
       "      <td>1351.10</td>\n",
       "      <td>0</td>\n",
       "      <td>unmarried</td>\n",
       "      <td>Cust1006</td>\n",
       "    </tr>\n",
       "    <tr>\n",
       "      <th>4</th>\n",
       "      <td>110128</td>\n",
       "      <td>137</td>\n",
       "      <td>2000-06-04</td>\n",
       "      <td>State2</td>\n",
       "      <td>250/500</td>\n",
       "      <td>1000</td>\n",
       "      <td>1333.35</td>\n",
       "      <td>0</td>\n",
       "      <td>husband</td>\n",
       "      <td>Cust1007</td>\n",
       "    </tr>\n",
       "  </tbody>\n",
       "</table>\n",
       "</div>"
      ],
      "text/plain": [
       "   InsurancePolicyNumber  CustomerLoyaltyPeriod DateOfPolicyCoverage  \\\n",
       "0                 110122                    328           2014-10-17   \n",
       "1                 110125                    256           1990-05-25   \n",
       "2                 110126                    228           2014-06-06   \n",
       "3                 110127                    256           2006-10-12   \n",
       "4                 110128                    137           2000-06-04   \n",
       "\n",
       "  InsurancePolicyState Policy_CombinedSingleLimit  Policy_Deductible  \\\n",
       "0               State3                    250/500               1000   \n",
       "1               State1                    250/500               2000   \n",
       "2               State1                   500/1000               1000   \n",
       "3               State3                    250/500               1000   \n",
       "4               State2                    250/500               1000   \n",
       "\n",
       "   PolicyAnnualPremium  UmbrellaLimit InsuredRelationship CustomerID  \n",
       "0              1406.91              0             husband   Cust1001  \n",
       "1              1415.74        6000000           unmarried   Cust1004  \n",
       "2              1583.91        6000000           unmarried   Cust1005  \n",
       "3              1351.10              0           unmarried   Cust1006  \n",
       "4              1333.35              0             husband   Cust1007  "
      ]
     },
     "metadata": {},
     "output_type": "display_data"
    },
    {
     "data": {
      "text/html": [
       "<div>\n",
       "<style scoped>\n",
       "    .dataframe tbody tr th:only-of-type {\n",
       "        vertical-align: middle;\n",
       "    }\n",
       "\n",
       "    .dataframe tbody tr th {\n",
       "        vertical-align: top;\n",
       "    }\n",
       "\n",
       "    .dataframe thead th {\n",
       "        text-align: right;\n",
       "    }\n",
       "</style>\n",
       "<table border=\"1\" class=\"dataframe\">\n",
       "  <thead>\n",
       "    <tr style=\"text-align: right;\">\n",
       "      <th></th>\n",
       "      <th>CustomerID</th>\n",
       "      <th>VehicleAttribute</th>\n",
       "      <th>VehicleAttributeDetails</th>\n",
       "    </tr>\n",
       "  </thead>\n",
       "  <tbody>\n",
       "    <tr>\n",
       "      <th>0</th>\n",
       "      <td>Cust20179</td>\n",
       "      <td>VehicleID</td>\n",
       "      <td>Vehicle8898</td>\n",
       "    </tr>\n",
       "    <tr>\n",
       "      <th>1</th>\n",
       "      <td>Cust21384</td>\n",
       "      <td>VehicleModel</td>\n",
       "      <td>Malibu</td>\n",
       "    </tr>\n",
       "    <tr>\n",
       "      <th>2</th>\n",
       "      <td>Cust33335</td>\n",
       "      <td>VehicleMake</td>\n",
       "      <td>Toyota</td>\n",
       "    </tr>\n",
       "    <tr>\n",
       "      <th>3</th>\n",
       "      <td>Cust27118</td>\n",
       "      <td>VehicleModel</td>\n",
       "      <td>Neon</td>\n",
       "    </tr>\n",
       "    <tr>\n",
       "      <th>4</th>\n",
       "      <td>Cust13038</td>\n",
       "      <td>VehicleID</td>\n",
       "      <td>Vehicle30212</td>\n",
       "    </tr>\n",
       "  </tbody>\n",
       "</table>\n",
       "</div>"
      ],
      "text/plain": [
       "  CustomerID VehicleAttribute VehicleAttributeDetails\n",
       "0  Cust20179        VehicleID             Vehicle8898\n",
       "1  Cust21384     VehicleModel                  Malibu\n",
       "2  Cust33335      VehicleMake                  Toyota\n",
       "3  Cust27118     VehicleModel                    Neon\n",
       "4  Cust13038        VehicleID            Vehicle30212"
      ]
     },
     "metadata": {},
     "output_type": "display_data"
    },
    {
     "data": {
      "text/html": [
       "<div>\n",
       "<style scoped>\n",
       "    .dataframe tbody tr th:only-of-type {\n",
       "        vertical-align: middle;\n",
       "    }\n",
       "\n",
       "    .dataframe tbody tr th {\n",
       "        vertical-align: top;\n",
       "    }\n",
       "\n",
       "    .dataframe thead th {\n",
       "        text-align: right;\n",
       "    }\n",
       "</style>\n",
       "<table border=\"1\" class=\"dataframe\">\n",
       "  <thead>\n",
       "    <tr style=\"text-align: right;\">\n",
       "      <th></th>\n",
       "      <th>CustomerID</th>\n",
       "      <th>ReportedFraud</th>\n",
       "    </tr>\n",
       "  </thead>\n",
       "  <tbody>\n",
       "    <tr>\n",
       "      <th>0</th>\n",
       "      <td>Cust20065</td>\n",
       "      <td>N</td>\n",
       "    </tr>\n",
       "    <tr>\n",
       "      <th>1</th>\n",
       "      <td>Cust37589</td>\n",
       "      <td>N</td>\n",
       "    </tr>\n",
       "    <tr>\n",
       "      <th>2</th>\n",
       "      <td>Cust24312</td>\n",
       "      <td>N</td>\n",
       "    </tr>\n",
       "    <tr>\n",
       "      <th>3</th>\n",
       "      <td>Cust5493</td>\n",
       "      <td>Y</td>\n",
       "    </tr>\n",
       "    <tr>\n",
       "      <th>4</th>\n",
       "      <td>Cust7704</td>\n",
       "      <td>Y</td>\n",
       "    </tr>\n",
       "  </tbody>\n",
       "</table>\n",
       "</div>"
      ],
      "text/plain": [
       "  CustomerID ReportedFraud\n",
       "0  Cust20065             N\n",
       "1  Cust37589             N\n",
       "2  Cust24312             N\n",
       "3   Cust5493             Y\n",
       "4   Cust7704             Y"
      ]
     },
     "metadata": {},
     "output_type": "display_data"
    }
   ],
   "source": [
    "raw_tc_df = pd.read_csv('./TrainData/Train_Claim.csv')\n",
    "raw_td_df = pd.read_csv('./TrainData/Train_Demographics.csv')\n",
    "raw_tp_df = pd.read_csv('./TrainData/Train_Policy.csv')\n",
    "raw_tv_df = pd.read_csv('./TrainData/Train_Vehicle.csv')\n",
    "raw_t_df = pd.read_csv('./TrainData/Traindata_with_Target.csv')\n",
    "\n",
    "display(raw_tc_df.head())\n",
    "display(raw_td_df.head())\n",
    "display(raw_tp_df.head())\n",
    "display(raw_tv_df.head())\n",
    "display(raw_t_df.head())\n"
   ]
  },
  {
   "cell_type": "code",
   "execution_count": 92,
   "metadata": {},
   "outputs": [
    {
     "data": {
      "text/plain": [
       "'Train Claim'"
      ]
     },
     "metadata": {},
     "output_type": "display_data"
    },
    {
     "data": {
      "text/plain": [
       "Series([], Name: count, dtype: int64)"
      ]
     },
     "metadata": {},
     "output_type": "display_data"
    },
    {
     "data": {
      "text/plain": [
       "'Train Demographics'"
      ]
     },
     "metadata": {},
     "output_type": "display_data"
    },
    {
     "data": {
      "text/plain": [
       "Series([], Name: count, dtype: int64)"
      ]
     },
     "metadata": {},
     "output_type": "display_data"
    },
    {
     "data": {
      "text/plain": [
       "'Train Policy'"
      ]
     },
     "metadata": {},
     "output_type": "display_data"
    },
    {
     "data": {
      "text/plain": [
       "Series([], Name: count, dtype: int64)"
      ]
     },
     "metadata": {},
     "output_type": "display_data"
    },
    {
     "data": {
      "text/plain": [
       "'Train Vehicle'"
      ]
     },
     "metadata": {},
     "output_type": "display_data"
    },
    {
     "data": {
      "text/plain": [
       "CustomerID\n",
       "Cust20179    4\n",
       "Cust23045    4\n",
       "Cust3818     4\n",
       "Cust7461     4\n",
       "Cust16944    4\n",
       "            ..\n",
       "Cust30090    4\n",
       "Cust9783     4\n",
       "Cust20478    4\n",
       "Cust35879    4\n",
       "Cust15237    4\n",
       "Name: count, Length: 28836, dtype: int64"
      ]
     },
     "metadata": {},
     "output_type": "display_data"
    }
   ],
   "source": [
    "# Checkig if CustomerId is Repeating i.e value_count > 1\n",
    "display('Train Claim' , raw_tc_df['CustomerID'].value_counts()[lambda x : x>1])\n",
    "display('Train Demographics',raw_td_df['CustomerID'].value_counts()[lambda x : x >1])\n",
    "display('Train Policy',raw_tp_df['CustomerID'].value_counts()[lambda x : x > 1])\n",
    "display('Train Vehicle',raw_tv_df['CustomerID'].value_counts()[lambda x : x > 1])\n"
   ]
  },
  {
   "cell_type": "markdown",
   "metadata": {},
   "source": [
    "## Concluded from above\n",
    "Only in `train_vehicle` table customerId are repeating "
   ]
  },
  {
   "cell_type": "code",
   "execution_count": 93,
   "metadata": {},
   "outputs": [
    {
     "name": "stdout",
     "output_type": "stream",
     "text": [
      "<class 'pandas.core.frame.DataFrame'>\n",
      "RangeIndex: 28836 entries, 0 to 28835\n",
      "Data columns (total 5 columns):\n",
      " #   Column        Non-Null Count  Dtype \n",
      "---  ------        --------------  ----- \n",
      " 0   CustomerID    28836 non-null  object\n",
      " 1   VehicleID     28836 non-null  object\n",
      " 2   VehicleMake   28836 non-null  object\n",
      " 3   VehicleModel  28836 non-null  object\n",
      " 4   VehicleYOM    28836 non-null  object\n",
      "dtypes: object(5)\n",
      "memory usage: 1.1+ MB\n"
     ]
    }
   ],
   "source": [
    "# Pivot Train Vehicle Table \n",
    "pvt_tv_df = raw_tv_df.pivot_table(index='CustomerID',columns='VehicleAttribute',values='VehicleAttributeDetails',aggfunc='first').reset_index()\n",
    "\n",
    "# Check null values\n",
    "pvt_tv_df.info()\n"
   ]
  },
  {
   "cell_type": "code",
   "execution_count": 94,
   "metadata": {},
   "outputs": [
    {
     "name": "stdout",
     "output_type": "stream",
     "text": [
      "<class 'pandas.core.frame.DataFrame'>\n",
      "RangeIndex: 28836 entries, 0 to 28835\n",
      "Data columns (total 19 columns):\n",
      " #   Column                 Non-Null Count  Dtype \n",
      "---  ------                 --------------  ----- \n",
      " 0   CustomerID             28836 non-null  object\n",
      " 1   DateOfIncident         28836 non-null  object\n",
      " 2   TypeOfIncident         28836 non-null  object\n",
      " 3   TypeOfCollission       28836 non-null  object\n",
      " 4   SeverityOfIncident     28836 non-null  object\n",
      " 5   AuthoritiesContacted   26144 non-null  object\n",
      " 6   IncidentState          28836 non-null  object\n",
      " 7   IncidentCity           28836 non-null  object\n",
      " 8   IncidentAddress        28836 non-null  object\n",
      " 9   IncidentTime           28836 non-null  int64 \n",
      " 10  NumberOfVehicles       28836 non-null  int64 \n",
      " 11  PropertyDamage         28836 non-null  object\n",
      " 12  BodilyInjuries         28836 non-null  int64 \n",
      " 13  Witnesses              28836 non-null  object\n",
      " 14  PoliceReport           28836 non-null  object\n",
      " 15  AmountOfTotalClaim     28836 non-null  object\n",
      " 16  AmountOfInjuryClaim    28836 non-null  int64 \n",
      " 17  AmountOfPropertyClaim  28836 non-null  int64 \n",
      " 18  AmountOfVehicleDamage  28836 non-null  int64 \n",
      "dtypes: int64(6), object(13)\n",
      "memory usage: 4.2+ MB\n"
     ]
    },
    {
     "data": {
      "text/plain": [
       "None"
      ]
     },
     "metadata": {},
     "output_type": "display_data"
    },
    {
     "name": "stdout",
     "output_type": "stream",
     "text": [
      "<class 'pandas.core.frame.DataFrame'>\n",
      "RangeIndex: 28836 entries, 0 to 28835\n",
      "Data columns (total 10 columns):\n",
      " #   Column                 Non-Null Count  Dtype \n",
      "---  ------                 --------------  ----- \n",
      " 0   CustomerID             28836 non-null  object\n",
      " 1   InsuredAge             28836 non-null  int64 \n",
      " 2   InsuredZipCode         28836 non-null  int64 \n",
      " 3   InsuredGender          28806 non-null  object\n",
      " 4   InsuredEducationLevel  28836 non-null  object\n",
      " 5   InsuredOccupation      28836 non-null  object\n",
      " 6   InsuredHobbies         28836 non-null  object\n",
      " 7   CapitalGains           28836 non-null  int64 \n",
      " 8   CapitalLoss            28836 non-null  int64 \n",
      " 9   Country                28834 non-null  object\n",
      "dtypes: int64(4), object(6)\n",
      "memory usage: 2.2+ MB\n"
     ]
    },
    {
     "data": {
      "text/plain": [
       "None"
      ]
     },
     "metadata": {},
     "output_type": "display_data"
    },
    {
     "name": "stdout",
     "output_type": "stream",
     "text": [
      "<class 'pandas.core.frame.DataFrame'>\n",
      "RangeIndex: 28836 entries, 0 to 28835\n",
      "Data columns (total 10 columns):\n",
      " #   Column                      Non-Null Count  Dtype  \n",
      "---  ------                      --------------  -----  \n",
      " 0   InsurancePolicyNumber       28836 non-null  int64  \n",
      " 1   CustomerLoyaltyPeriod       28836 non-null  int64  \n",
      " 2   DateOfPolicyCoverage        28836 non-null  object \n",
      " 3   InsurancePolicyState        28836 non-null  object \n",
      " 4   Policy_CombinedSingleLimit  28836 non-null  object \n",
      " 5   Policy_Deductible           28836 non-null  int64  \n",
      " 6   PolicyAnnualPremium         28836 non-null  float64\n",
      " 7   UmbrellaLimit               28836 non-null  int64  \n",
      " 8   InsuredRelationship         28836 non-null  object \n",
      " 9   CustomerID                  28836 non-null  object \n",
      "dtypes: float64(1), int64(4), object(5)\n",
      "memory usage: 2.2+ MB\n"
     ]
    },
    {
     "data": {
      "text/plain": [
       "None"
      ]
     },
     "metadata": {},
     "output_type": "display_data"
    },
    {
     "name": "stdout",
     "output_type": "stream",
     "text": [
      "<class 'pandas.core.frame.DataFrame'>\n",
      "RangeIndex: 28836 entries, 0 to 28835\n",
      "Data columns (total 5 columns):\n",
      " #   Column        Non-Null Count  Dtype \n",
      "---  ------        --------------  ----- \n",
      " 0   CustomerID    28836 non-null  object\n",
      " 1   VehicleID     28836 non-null  object\n",
      " 2   VehicleMake   28836 non-null  object\n",
      " 3   VehicleModel  28836 non-null  object\n",
      " 4   VehicleYOM    28836 non-null  object\n",
      "dtypes: object(5)\n",
      "memory usage: 1.1+ MB\n"
     ]
    },
    {
     "data": {
      "text/plain": [
       "None"
      ]
     },
     "metadata": {},
     "output_type": "display_data"
    },
    {
     "name": "stdout",
     "output_type": "stream",
     "text": [
      "<class 'pandas.core.frame.DataFrame'>\n",
      "RangeIndex: 28836 entries, 0 to 28835\n",
      "Data columns (total 2 columns):\n",
      " #   Column         Non-Null Count  Dtype \n",
      "---  ------         --------------  ----- \n",
      " 0   CustomerID     28836 non-null  object\n",
      " 1   ReportedFraud  28836 non-null  object\n",
      "dtypes: object(2)\n",
      "memory usage: 450.7+ KB\n"
     ]
    },
    {
     "data": {
      "text/plain": [
       "None"
      ]
     },
     "metadata": {},
     "output_type": "display_data"
    }
   ],
   "source": [
    "# Look Info\n",
    "\n",
    "display(raw_tc_df.info())\n",
    "display(raw_td_df.info())\n",
    "display(raw_tp_df.info())\n",
    "display(pvt_tv_df.info())\n",
    "display(raw_t_df.info())"
   ]
  },
  {
   "cell_type": "markdown",
   "metadata": {},
   "source": [
    "## Concluded from above\n",
    "All Tables have `28836` records and `no null` values in `any` table"
   ]
  },
  {
   "cell_type": "code",
   "execution_count": 95,
   "metadata": {},
   "outputs": [
    {
     "name": "stdout",
     "output_type": "stream",
     "text": [
      "Train Claims Shape: (28836, 19)\n",
      "Train Demographic Shape: (28836, 10)\n",
      "Train Policy Shape: (28836, 10)\n",
      "Train Vehicle Shape: (28836, 5)\n",
      "Train Target Shape: (28836, 2)\n",
      "Merged Table Shape: (28836, 42)\n",
      "Total Columns in Merged is equal to adition of all coulmns from individual tables ?  True\n"
     ]
    },
    {
     "data": {
      "text/html": [
       "<div>\n",
       "<style scoped>\n",
       "    .dataframe tbody tr th:only-of-type {\n",
       "        vertical-align: middle;\n",
       "    }\n",
       "\n",
       "    .dataframe tbody tr th {\n",
       "        vertical-align: top;\n",
       "    }\n",
       "\n",
       "    .dataframe thead th {\n",
       "        text-align: right;\n",
       "    }\n",
       "</style>\n",
       "<table border=\"1\" class=\"dataframe\">\n",
       "  <thead>\n",
       "    <tr style=\"text-align: right;\">\n",
       "      <th></th>\n",
       "      <th>CustomerID</th>\n",
       "      <th>DateOfIncident</th>\n",
       "      <th>TypeOfIncident</th>\n",
       "      <th>TypeOfCollission</th>\n",
       "      <th>SeverityOfIncident</th>\n",
       "      <th>AuthoritiesContacted</th>\n",
       "      <th>IncidentState</th>\n",
       "      <th>IncidentCity</th>\n",
       "      <th>IncidentAddress</th>\n",
       "      <th>IncidentTime</th>\n",
       "      <th>NumberOfVehicles</th>\n",
       "      <th>PropertyDamage</th>\n",
       "      <th>BodilyInjuries</th>\n",
       "      <th>Witnesses</th>\n",
       "      <th>PoliceReport</th>\n",
       "      <th>AmountOfTotalClaim</th>\n",
       "      <th>AmountOfInjuryClaim</th>\n",
       "      <th>AmountOfPropertyClaim</th>\n",
       "      <th>AmountOfVehicleDamage</th>\n",
       "      <th>InsuredAge</th>\n",
       "      <th>InsuredZipCode</th>\n",
       "      <th>InsuredGender</th>\n",
       "      <th>InsuredEducationLevel</th>\n",
       "      <th>InsuredOccupation</th>\n",
       "      <th>InsuredHobbies</th>\n",
       "      <th>CapitalGains</th>\n",
       "      <th>CapitalLoss</th>\n",
       "      <th>Country</th>\n",
       "      <th>InsurancePolicyNumber</th>\n",
       "      <th>CustomerLoyaltyPeriod</th>\n",
       "      <th>DateOfPolicyCoverage</th>\n",
       "      <th>InsurancePolicyState</th>\n",
       "      <th>Policy_CombinedSingleLimit</th>\n",
       "      <th>Policy_Deductible</th>\n",
       "      <th>PolicyAnnualPremium</th>\n",
       "      <th>UmbrellaLimit</th>\n",
       "      <th>InsuredRelationship</th>\n",
       "      <th>VehicleID</th>\n",
       "      <th>VehicleMake</th>\n",
       "      <th>VehicleModel</th>\n",
       "      <th>VehicleYOM</th>\n",
       "      <th>ReportedFraud</th>\n",
       "    </tr>\n",
       "  </thead>\n",
       "  <tbody>\n",
       "    <tr>\n",
       "      <th>0</th>\n",
       "      <td>Cust10000</td>\n",
       "      <td>2015-02-03</td>\n",
       "      <td>Multi-vehicle Collision</td>\n",
       "      <td>Side Collision</td>\n",
       "      <td>Total Loss</td>\n",
       "      <td>Police</td>\n",
       "      <td>State7</td>\n",
       "      <td>City1</td>\n",
       "      <td>Location 1311</td>\n",
       "      <td>17</td>\n",
       "      <td>3</td>\n",
       "      <td>?</td>\n",
       "      <td>1</td>\n",
       "      <td>0</td>\n",
       "      <td>?</td>\n",
       "      <td>65501</td>\n",
       "      <td>13417</td>\n",
       "      <td>6071</td>\n",
       "      <td>46013</td>\n",
       "      <td>35</td>\n",
       "      <td>454776</td>\n",
       "      <td>MALE</td>\n",
       "      <td>JD</td>\n",
       "      <td>armed-forces</td>\n",
       "      <td>movies</td>\n",
       "      <td>56700</td>\n",
       "      <td>-48500</td>\n",
       "      <td>India</td>\n",
       "      <td>119121</td>\n",
       "      <td>49</td>\n",
       "      <td>1998-10-25</td>\n",
       "      <td>State1</td>\n",
       "      <td>100/300</td>\n",
       "      <td>1000</td>\n",
       "      <td>1632.73</td>\n",
       "      <td>0</td>\n",
       "      <td>not-in-family</td>\n",
       "      <td>Vehicle26917</td>\n",
       "      <td>Audi</td>\n",
       "      <td>A5</td>\n",
       "      <td>2008</td>\n",
       "      <td>N</td>\n",
       "    </tr>\n",
       "    <tr>\n",
       "      <th>1</th>\n",
       "      <td>Cust10001</td>\n",
       "      <td>2015-02-02</td>\n",
       "      <td>Multi-vehicle Collision</td>\n",
       "      <td>Side Collision</td>\n",
       "      <td>Total Loss</td>\n",
       "      <td>Police</td>\n",
       "      <td>State7</td>\n",
       "      <td>City5</td>\n",
       "      <td>Location 1311</td>\n",
       "      <td>10</td>\n",
       "      <td>3</td>\n",
       "      <td>YES</td>\n",
       "      <td>2</td>\n",
       "      <td>1</td>\n",
       "      <td>YES</td>\n",
       "      <td>61382</td>\n",
       "      <td>15560</td>\n",
       "      <td>5919</td>\n",
       "      <td>39903</td>\n",
       "      <td>36</td>\n",
       "      <td>454776</td>\n",
       "      <td>MALE</td>\n",
       "      <td>JD</td>\n",
       "      <td>tech-support</td>\n",
       "      <td>cross-fit</td>\n",
       "      <td>70600</td>\n",
       "      <td>-48500</td>\n",
       "      <td>India</td>\n",
       "      <td>119122</td>\n",
       "      <td>114</td>\n",
       "      <td>2000-11-15</td>\n",
       "      <td>State1</td>\n",
       "      <td>100/300</td>\n",
       "      <td>1000</td>\n",
       "      <td>1255.19</td>\n",
       "      <td>0</td>\n",
       "      <td>not-in-family</td>\n",
       "      <td>Vehicle15893</td>\n",
       "      <td>Audi</td>\n",
       "      <td>A5</td>\n",
       "      <td>2006</td>\n",
       "      <td>N</td>\n",
       "    </tr>\n",
       "    <tr>\n",
       "      <th>2</th>\n",
       "      <td>Cust10002</td>\n",
       "      <td>2015-01-15</td>\n",
       "      <td>Single Vehicle Collision</td>\n",
       "      <td>Side Collision</td>\n",
       "      <td>Minor Damage</td>\n",
       "      <td>Other</td>\n",
       "      <td>State8</td>\n",
       "      <td>City6</td>\n",
       "      <td>Location 2081</td>\n",
       "      <td>22</td>\n",
       "      <td>1</td>\n",
       "      <td>YES</td>\n",
       "      <td>2</td>\n",
       "      <td>3</td>\n",
       "      <td>NO</td>\n",
       "      <td>66755</td>\n",
       "      <td>11630</td>\n",
       "      <td>11630</td>\n",
       "      <td>43495</td>\n",
       "      <td>33</td>\n",
       "      <td>603260</td>\n",
       "      <td>MALE</td>\n",
       "      <td>JD</td>\n",
       "      <td>armed-forces</td>\n",
       "      <td>polo</td>\n",
       "      <td>66400</td>\n",
       "      <td>-63700</td>\n",
       "      <td>India</td>\n",
       "      <td>119123</td>\n",
       "      <td>167</td>\n",
       "      <td>2001-02-12</td>\n",
       "      <td>State3</td>\n",
       "      <td>500/1000</td>\n",
       "      <td>617</td>\n",
       "      <td>1373.38</td>\n",
       "      <td>0</td>\n",
       "      <td>wife</td>\n",
       "      <td>Vehicle5152</td>\n",
       "      <td>Volkswagen</td>\n",
       "      <td>Jetta</td>\n",
       "      <td>1999</td>\n",
       "      <td>N</td>\n",
       "    </tr>\n",
       "    <tr>\n",
       "      <th>3</th>\n",
       "      <td>Cust10003</td>\n",
       "      <td>2015-01-19</td>\n",
       "      <td>Single Vehicle Collision</td>\n",
       "      <td>Side Collision</td>\n",
       "      <td>Minor Damage</td>\n",
       "      <td>Other</td>\n",
       "      <td>State9</td>\n",
       "      <td>City6</td>\n",
       "      <td>Location 2081</td>\n",
       "      <td>22</td>\n",
       "      <td>1</td>\n",
       "      <td>YES</td>\n",
       "      <td>2</td>\n",
       "      <td>3</td>\n",
       "      <td>NO</td>\n",
       "      <td>66243</td>\n",
       "      <td>12003</td>\n",
       "      <td>12003</td>\n",
       "      <td>42237</td>\n",
       "      <td>36</td>\n",
       "      <td>474848</td>\n",
       "      <td>MALE</td>\n",
       "      <td>JD</td>\n",
       "      <td>armed-forces</td>\n",
       "      <td>polo</td>\n",
       "      <td>47900</td>\n",
       "      <td>-73400</td>\n",
       "      <td>India</td>\n",
       "      <td>119124</td>\n",
       "      <td>190</td>\n",
       "      <td>2005-04-11</td>\n",
       "      <td>State2</td>\n",
       "      <td>500/1000</td>\n",
       "      <td>722</td>\n",
       "      <td>1337.60</td>\n",
       "      <td>0</td>\n",
       "      <td>own-child</td>\n",
       "      <td>Vehicle37363</td>\n",
       "      <td>Volkswagen</td>\n",
       "      <td>Jetta</td>\n",
       "      <td>2003</td>\n",
       "      <td>N</td>\n",
       "    </tr>\n",
       "    <tr>\n",
       "      <th>4</th>\n",
       "      <td>Cust10004</td>\n",
       "      <td>2015-01-09</td>\n",
       "      <td>Single Vehicle Collision</td>\n",
       "      <td>Rear Collision</td>\n",
       "      <td>Minor Damage</td>\n",
       "      <td>Fire</td>\n",
       "      <td>State8</td>\n",
       "      <td>City6</td>\n",
       "      <td>Location 1695</td>\n",
       "      <td>10</td>\n",
       "      <td>1</td>\n",
       "      <td>NO</td>\n",
       "      <td>2</td>\n",
       "      <td>1</td>\n",
       "      <td>YES</td>\n",
       "      <td>53544</td>\n",
       "      <td>8829</td>\n",
       "      <td>7234</td>\n",
       "      <td>37481</td>\n",
       "      <td>29</td>\n",
       "      <td>457942</td>\n",
       "      <td>FEMALE</td>\n",
       "      <td>High School</td>\n",
       "      <td>exec-managerial</td>\n",
       "      <td>dancing</td>\n",
       "      <td>0</td>\n",
       "      <td>-41500</td>\n",
       "      <td>India</td>\n",
       "      <td>119125</td>\n",
       "      <td>115</td>\n",
       "      <td>1996-10-25</td>\n",
       "      <td>State2</td>\n",
       "      <td>100/300</td>\n",
       "      <td>500</td>\n",
       "      <td>1353.73</td>\n",
       "      <td>4279863</td>\n",
       "      <td>unmarried</td>\n",
       "      <td>Vehicle28633</td>\n",
       "      <td>Toyota</td>\n",
       "      <td>CRV</td>\n",
       "      <td>2010</td>\n",
       "      <td>N</td>\n",
       "    </tr>\n",
       "  </tbody>\n",
       "</table>\n",
       "</div>"
      ],
      "text/plain": [
       "  CustomerID DateOfIncident            TypeOfIncident TypeOfCollission  \\\n",
       "0  Cust10000     2015-02-03   Multi-vehicle Collision   Side Collision   \n",
       "1  Cust10001     2015-02-02   Multi-vehicle Collision   Side Collision   \n",
       "2  Cust10002     2015-01-15  Single Vehicle Collision   Side Collision   \n",
       "3  Cust10003     2015-01-19  Single Vehicle Collision   Side Collision   \n",
       "4  Cust10004     2015-01-09  Single Vehicle Collision   Rear Collision   \n",
       "\n",
       "  SeverityOfIncident AuthoritiesContacted IncidentState IncidentCity  \\\n",
       "0         Total Loss               Police        State7        City1   \n",
       "1         Total Loss               Police        State7        City5   \n",
       "2       Minor Damage                Other        State8        City6   \n",
       "3       Minor Damage                Other        State9        City6   \n",
       "4       Minor Damage                 Fire        State8        City6   \n",
       "\n",
       "  IncidentAddress  IncidentTime  NumberOfVehicles PropertyDamage  \\\n",
       "0   Location 1311            17                 3              ?   \n",
       "1   Location 1311            10                 3            YES   \n",
       "2   Location 2081            22                 1            YES   \n",
       "3   Location 2081            22                 1            YES   \n",
       "4   Location 1695            10                 1             NO   \n",
       "\n",
       "   BodilyInjuries Witnesses PoliceReport AmountOfTotalClaim  \\\n",
       "0               1         0            ?              65501   \n",
       "1               2         1          YES              61382   \n",
       "2               2         3           NO              66755   \n",
       "3               2         3           NO              66243   \n",
       "4               2         1          YES              53544   \n",
       "\n",
       "   AmountOfInjuryClaim  AmountOfPropertyClaim  AmountOfVehicleDamage  \\\n",
       "0                13417                   6071                  46013   \n",
       "1                15560                   5919                  39903   \n",
       "2                11630                  11630                  43495   \n",
       "3                12003                  12003                  42237   \n",
       "4                 8829                   7234                  37481   \n",
       "\n",
       "   InsuredAge  InsuredZipCode InsuredGender InsuredEducationLevel  \\\n",
       "0          35          454776          MALE                    JD   \n",
       "1          36          454776          MALE                    JD   \n",
       "2          33          603260          MALE                    JD   \n",
       "3          36          474848          MALE                    JD   \n",
       "4          29          457942        FEMALE           High School   \n",
       "\n",
       "  InsuredOccupation InsuredHobbies  CapitalGains  CapitalLoss Country  \\\n",
       "0      armed-forces         movies         56700       -48500   India   \n",
       "1      tech-support      cross-fit         70600       -48500   India   \n",
       "2      armed-forces           polo         66400       -63700   India   \n",
       "3      armed-forces           polo         47900       -73400   India   \n",
       "4   exec-managerial        dancing             0       -41500   India   \n",
       "\n",
       "   InsurancePolicyNumber  CustomerLoyaltyPeriod DateOfPolicyCoverage  \\\n",
       "0                 119121                     49           1998-10-25   \n",
       "1                 119122                    114           2000-11-15   \n",
       "2                 119123                    167           2001-02-12   \n",
       "3                 119124                    190           2005-04-11   \n",
       "4                 119125                    115           1996-10-25   \n",
       "\n",
       "  InsurancePolicyState Policy_CombinedSingleLimit  Policy_Deductible  \\\n",
       "0               State1                    100/300               1000   \n",
       "1               State1                    100/300               1000   \n",
       "2               State3                   500/1000                617   \n",
       "3               State2                   500/1000                722   \n",
       "4               State2                    100/300                500   \n",
       "\n",
       "   PolicyAnnualPremium  UmbrellaLimit InsuredRelationship     VehicleID  \\\n",
       "0              1632.73              0       not-in-family  Vehicle26917   \n",
       "1              1255.19              0       not-in-family  Vehicle15893   \n",
       "2              1373.38              0                wife   Vehicle5152   \n",
       "3              1337.60              0           own-child  Vehicle37363   \n",
       "4              1353.73        4279863           unmarried  Vehicle28633   \n",
       "\n",
       "  VehicleMake VehicleModel VehicleYOM ReportedFraud  \n",
       "0        Audi           A5       2008             N  \n",
       "1        Audi           A5       2006             N  \n",
       "2  Volkswagen        Jetta       1999             N  \n",
       "3  Volkswagen        Jetta       2003             N  \n",
       "4      Toyota          CRV       2010             N  "
      ]
     },
     "execution_count": 95,
     "metadata": {},
     "output_type": "execute_result"
    }
   ],
   "source": [
    "## Merge all 5 Tables on CustomerId\n",
    "print('Train Claims Shape:' , raw_tc_df.shape)\n",
    "print('Train Demographic Shape:' , raw_td_df.shape)\n",
    "print('Train Policy Shape:' , raw_tp_df.shape)\n",
    "print('Train Vehicle Shape:' , pvt_tv_df.shape)\n",
    "print('Train Target Shape:' , raw_t_df.shape)\n",
    "\n",
    "merged_df:DataFrame = reduce(lambda left,right : pd.merge(left,right,how='inner',on='CustomerID'), [raw_tc_df,raw_td_df,raw_tp_df,pvt_tv_df,raw_t_df])\n",
    "\n",
    "print('Merged Table Shape:' , merged_df.shape)\n",
    "print('Total Columns in Merged is equal to adition of all coulmns from individual tables ? ', (raw_tc_df.shape[1] +  raw_td_df.shape[1] + raw_tp_df.shape[1] +  pvt_tv_df.shape[1] + raw_t_df.shape[1] - 4 ) == merged_df.shape[1])\n",
    "\n",
    "pd.set_option('display.max_columns', 42)\n",
    "merged_df.head()"
   ]
  },
  {
   "cell_type": "code",
   "execution_count": 96,
   "metadata": {},
   "outputs": [
    {
     "name": "stdout",
     "output_type": "stream",
     "text": [
      "<class 'pandas.core.frame.DataFrame'>\n",
      "RangeIndex: 28836 entries, 0 to 28835\n",
      "Data columns (total 42 columns):\n",
      " #   Column                      Non-Null Count  Dtype  \n",
      "---  ------                      --------------  -----  \n",
      " 0   CustomerID                  28836 non-null  object \n",
      " 1   DateOfIncident              28836 non-null  object \n",
      " 2   TypeOfIncident              28836 non-null  object \n",
      " 3   TypeOfCollission            28836 non-null  object \n",
      " 4   SeverityOfIncident          28836 non-null  object \n",
      " 5   AuthoritiesContacted        26144 non-null  object \n",
      " 6   IncidentState               28836 non-null  object \n",
      " 7   IncidentCity                28836 non-null  object \n",
      " 8   IncidentAddress             28836 non-null  object \n",
      " 9   IncidentTime                28836 non-null  int64  \n",
      " 10  NumberOfVehicles            28836 non-null  int64  \n",
      " 11  PropertyDamage              28836 non-null  object \n",
      " 12  BodilyInjuries              28836 non-null  int64  \n",
      " 13  Witnesses                   28836 non-null  object \n",
      " 14  PoliceReport                28836 non-null  object \n",
      " 15  AmountOfTotalClaim          28836 non-null  object \n",
      " 16  AmountOfInjuryClaim         28836 non-null  int64  \n",
      " 17  AmountOfPropertyClaim       28836 non-null  int64  \n",
      " 18  AmountOfVehicleDamage       28836 non-null  int64  \n",
      " 19  InsuredAge                  28836 non-null  int64  \n",
      " 20  InsuredZipCode              28836 non-null  int64  \n",
      " 21  InsuredGender               28806 non-null  object \n",
      " 22  InsuredEducationLevel       28836 non-null  object \n",
      " 23  InsuredOccupation           28836 non-null  object \n",
      " 24  InsuredHobbies              28836 non-null  object \n",
      " 25  CapitalGains                28836 non-null  int64  \n",
      " 26  CapitalLoss                 28836 non-null  int64  \n",
      " 27  Country                     28834 non-null  object \n",
      " 28  InsurancePolicyNumber       28836 non-null  int64  \n",
      " 29  CustomerLoyaltyPeriod       28836 non-null  int64  \n",
      " 30  DateOfPolicyCoverage        28836 non-null  object \n",
      " 31  InsurancePolicyState        28836 non-null  object \n",
      " 32  Policy_CombinedSingleLimit  28836 non-null  object \n",
      " 33  Policy_Deductible           28836 non-null  int64  \n",
      " 34  PolicyAnnualPremium         28836 non-null  float64\n",
      " 35  UmbrellaLimit               28836 non-null  int64  \n",
      " 36  InsuredRelationship         28836 non-null  object \n",
      " 37  VehicleID                   28836 non-null  object \n",
      " 38  VehicleMake                 28836 non-null  object \n",
      " 39  VehicleModel                28836 non-null  object \n",
      " 40  VehicleYOM                  28836 non-null  object \n",
      " 41  ReportedFraud               28836 non-null  object \n",
      "dtypes: float64(1), int64(14), object(27)\n",
      "memory usage: 9.2+ MB\n"
     ]
    }
   ],
   "source": [
    "# Look for missing and duplicate\n",
    "merged_df.info()"
   ]
  },
  {
   "cell_type": "code",
   "execution_count": 97,
   "metadata": {},
   "outputs": [
    {
     "name": "stdout",
     "output_type": "stream",
     "text": [
      "Before Deduplicate (28836, 42)\n",
      "After Deduplicate (28836, 42)\n"
     ]
    }
   ],
   "source": [
    "print('Before Deduplicate' , merged_df.shape)\n",
    "merged_df.drop_duplicates(inplace=True)\n",
    "print('After Deduplicate' , merged_df.shape)"
   ]
  },
  {
   "cell_type": "markdown",
   "metadata": {},
   "source": [
    "## Data Cleaning \n",
    " - DateOfIncident from Object  to Date Format\n",
    " - Witnesses from Object  to int64\n",
    " - AmountOfTotalClaim from Object  to float64\n",
    " - DateOfPolicyCoverage from Object  to Date Format\n",
    " - Policy_CombinedSingleLimit Split into 2 features\n",
    " - VehicleYOM from Object  to int64"
   ]
  },
  {
   "cell_type": "code",
   "execution_count": 98,
   "metadata": {},
   "outputs": [
    {
     "name": "stderr",
     "output_type": "stream",
     "text": [
      "/var/folders/2q/4h8qwwsx6t5446pyq1l03mjh0000gn/T/ipykernel_92294/1138944992.py:4: MatplotlibDeprecationWarning: The 'labels' parameter of boxplot() has been renamed 'tick_labels' since Matplotlib 3.9; support for the old name will be dropped in 3.11.\n",
      "  plt.boxplot([merged_df[col].dropna() for col in numeric_cols], labels=numeric_cols)\n"
     ]
    },
    {
     "data": {
      "image/png": "[encoded data removed]",
      "text/plain": [
       "<Figure size 1500x800 with 1 Axes>"
      ]
     },
     "metadata": {},
     "output_type": "display_data"
    }
   ],
   "source": [
    "numeric_cols = merged_df.select_dtypes(include=['int64', 'float64']).columns\n",
    "\n",
    "plt.figure(figsize=(15, 8))\n",
    "plt.boxplot([merged_df[col].dropna() for col in numeric_cols], labels=numeric_cols)\n",
    "plt.xticks(rotation=45)\n",
    "plt.title(\"Boxplots of Numeric Columns\")\n",
    "plt.ylabel(\"Values\")\n",
    "plt.tight_layout()\n",
    "plt.show()"
   ]
  },
  {
   "cell_type": "markdown",
   "metadata": {},
   "source": [
    "## 2. Understanding the case study"
   ]
  },
  {
   "cell_type": "markdown",
   "metadata": {},
   "source": [
    "###  Case study analysis\n",
    "State the key points that you found in the case and how you intend to deal with them appropriately to address the client's needs. (You can include more than four points.) 200-300 words.\n",
    "\n",
    "1.\n",
    "1. \n",
    "1. \n",
    "1. \n",
    "\n"
   ]
  },
  {
   "attachments": {},
   "cell_type": "markdown",
   "metadata": {},
   "source": [
    "## 3. Pre-processing applied\n",
    "\n",
    "**Create a new subheading for each stage that you do from the following items. Enter your code in the cells below the subheading.**\n",
    "\n",
    "- Merging, pivoting and melting, if necessary\n",
    "- Preparing the labels appropriately, if necessary\n",
    "- Dealing with missing values (imputation, filtering) without leaking, if necessary\n",
    "- Dealing with duplicate values, if necessary\n",
    "- Scaling, without leaking, if necessary\n",
    "- Dealing with correlation and collinearity, if necessary\n",
    "- Variance analysis, if necessary\n",
    "- Appropriate feature selection such as RFE, if necessary\n",
    "- Appropriate feature extraction, if necessary\n",
    "- Identifying and dealing with class imbalance, if necessary\n",
    "- Identifying and dealing with outliers, if necessary\n",
    "- Categorical and numerical encoding if necessary\n",
    "- Other pre-processing "
   ]
  },
  {
   "cell_type": "markdown",
   "metadata": {},
   "source": [
    "### Merging, pivoting and melting, if necessary"
   ]
  },
  {
   "cell_type": "code",
   "execution_count": null,
   "metadata": {},
   "outputs": [],
   "source": []
  },
  {
   "cell_type": "markdown",
   "metadata": {},
   "source": [
    "### Preparing the labels appropriately, if necessary"
   ]
  },
  {
   "cell_type": "code",
   "execution_count": 99,
   "metadata": {},
   "outputs": [
    {
     "name": "stdout",
     "output_type": "stream",
     "text": [
      "ReportedFraud\n",
      "N    21051\n",
      "Y     7785\n",
      "Name: count, dtype: int64\n",
      "ReportedFraud\n",
      "N    0.730025\n",
      "Y    0.269975\n",
      "Name: proportion, dtype: float64\n"
     ]
    }
   ],
   "source": [
    "print(merged_df['ReportedFraud'].value_counts(dropna=False))\n",
    "print(merged_df['ReportedFraud'].value_counts(normalize=True))"
   ]
  },
  {
   "cell_type": "markdown",
   "metadata": {},
   "source": [
    "#### Above results suggest Target label is `imbalanced` with `Y is ~26% and N is ~73%` and no missing value"
   ]
  },
  {
   "cell_type": "code",
   "execution_count": 100,
   "metadata": {},
   "outputs": [
    {
     "name": "stdout",
     "output_type": "stream",
     "text": [
      "<class 'pandas.core.frame.DataFrame'>\n",
      "RangeIndex: 28836 entries, 0 to 28835\n",
      "Data columns (total 42 columns):\n",
      " #   Column                      Non-Null Count  Dtype  \n",
      "---  ------                      --------------  -----  \n",
      " 0   CustomerID                  28836 non-null  object \n",
      " 1   DateOfIncident              28836 non-null  object \n",
      " 2   TypeOfIncident              28836 non-null  object \n",
      " 3   TypeOfCollission            28836 non-null  object \n",
      " 4   SeverityOfIncident          28836 non-null  object \n",
      " 5   AuthoritiesContacted        26144 non-null  object \n",
      " 6   IncidentState               28836 non-null  object \n",
      " 7   IncidentCity                28836 non-null  object \n",
      " 8   IncidentAddress             28836 non-null  object \n",
      " 9   IncidentTime                28836 non-null  int64  \n",
      " 10  NumberOfVehicles            28836 non-null  int64  \n",
      " 11  PropertyDamage              28836 non-null  object \n",
      " 12  BodilyInjuries              28836 non-null  int64  \n",
      " 13  Witnesses                   28836 non-null  object \n",
      " 14  PoliceReport                28836 non-null  object \n",
      " 15  AmountOfTotalClaim          28836 non-null  object \n",
      " 16  AmountOfInjuryClaim         28836 non-null  int64  \n",
      " 17  AmountOfPropertyClaim       28836 non-null  int64  \n",
      " 18  AmountOfVehicleDamage       28836 non-null  int64  \n",
      " 19  InsuredAge                  28836 non-null  int64  \n",
      " 20  InsuredZipCode              28836 non-null  int64  \n",
      " 21  InsuredGender               28806 non-null  object \n",
      " 22  InsuredEducationLevel       28836 non-null  object \n",
      " 23  InsuredOccupation           28836 non-null  object \n",
      " 24  InsuredHobbies              28836 non-null  object \n",
      " 25  CapitalGains                28836 non-null  int64  \n",
      " 26  CapitalLoss                 28836 non-null  int64  \n",
      " 27  Country                     28834 non-null  object \n",
      " 28  InsurancePolicyNumber       28836 non-null  int64  \n",
      " 29  CustomerLoyaltyPeriod       28836 non-null  int64  \n",
      " 30  DateOfPolicyCoverage        28836 non-null  object \n",
      " 31  InsurancePolicyState        28836 non-null  object \n",
      " 32  Policy_CombinedSingleLimit  28836 non-null  object \n",
      " 33  Policy_Deductible           28836 non-null  int64  \n",
      " 34  PolicyAnnualPremium         28836 non-null  float64\n",
      " 35  UmbrellaLimit               28836 non-null  int64  \n",
      " 36  InsuredRelationship         28836 non-null  object \n",
      " 37  VehicleID                   28836 non-null  object \n",
      " 38  VehicleMake                 28836 non-null  object \n",
      " 39  VehicleModel                28836 non-null  object \n",
      " 40  VehicleYOM                  28836 non-null  object \n",
      " 41  ReportedFraud               28836 non-null  object \n",
      "dtypes: float64(1), int64(14), object(27)\n",
      "memory usage: 9.2+ MB\n"
     ]
    }
   ],
   "source": [
    "# Encode the Labels into binary \n",
    "merged_df['ReportedFraud'].map({'N' : 0 , 'Y' : 1})\n",
    "merged_df.info()"
   ]
  },
  {
   "cell_type": "markdown",
   "metadata": {},
   "source": [
    "### Dealing with datatype conversions\n",
    " - DateOfIncident from Object  to Date Format\n",
    " - Witnesses from Object  to int64\n",
    " - AmountOfTotalClaim from Object  to float64\n",
    " - DateOfPolicyCoverage from Object  to Date Format\n",
    " - Policy_CombinedSingleLimit Split into 2 features\n",
    " - VehicleYOM from Object  to int64"
   ]
  },
  {
   "cell_type": "code",
   "execution_count": 101,
   "metadata": {},
   "outputs": [],
   "source": [
    "class ColumnTypeConverter:\n",
    "    def __init__(self, column_name, target_type='datetime', errors='coerce'):\n",
    "        self.column_name = column_name\n",
    "        self.target_type = target_type\n",
    "        self.errors = errors\n",
    "\n",
    "    def transform(self, df):\n",
    "        if self.column_name not in df.columns:\n",
    "            raise ValueError(f\"Column '{self.column_name}' not found in DataFrame.\")\n",
    "        \n",
    "        original_non_nulls = df[self.column_name].notna().sum()\n",
    "\n",
    "        if self.target_type == 'datetime':\n",
    "            df[self.column_name] = pd.to_datetime(df[self.column_name], errors=self.errors)\n",
    "        elif self.target_type == 'int64':\n",
    "            df[self.column_name] = pd.to_numeric(df[self.column_name], errors=self.errors).astype('Int64')\n",
    "        elif self.target_type == 'float64':\n",
    "            df[self.column_name] = pd.to_numeric(df[self.column_name], errors=self.errors).astype('float64')\n",
    "        else:\n",
    "            raise ValueError(\"target_type must be one of: 'datetime', 'int64', 'float64'\")\n",
    "\n",
    "        converted_non_nulls = df[self.column_name].notna().sum()\n",
    "        failed_conversions = original_non_nulls - converted_non_nulls\n",
    "\n",
    "        print(f\"[{self.column_name}] Conversion Summary to '{self.target_type}':\")\n",
    "        print(f\"✅ Successfully converted: {converted_non_nulls}\")\n",
    "        print(f\"❌ Failed conversions (NaT or NaN): {failed_conversions}\")\n",
    "        \n",
    "        return df\n"
   ]
  },
  {
   "cell_type": "code",
   "execution_count": 102,
   "metadata": {},
   "outputs": [
    {
     "name": "stdout",
     "output_type": "stream",
     "text": [
      "[DateOfIncident] Conversion Summary to 'datetime':\n",
      "✅ Successfully converted: 28836\n",
      "❌ Failed conversions (NaT or NaN): 0\n",
      "[DateOfPolicyCoverage] Conversion Summary to 'datetime':\n",
      "✅ Successfully converted: 28836\n",
      "❌ Failed conversions (NaT or NaN): 0\n",
      "[Witnesses] Conversion Summary to 'int64':\n",
      "✅ Successfully converted: 28790\n",
      "❌ Failed conversions (NaT or NaN): 46\n",
      "[VehicleYOM] Conversion Summary to 'int64':\n",
      "✅ Successfully converted: 28836\n",
      "❌ Failed conversions (NaT or NaN): 0\n",
      "[AmountOfTotalClaim] Conversion Summary to 'float64':\n",
      "✅ Successfully converted: 28786\n",
      "❌ Failed conversions (NaT or NaN): 50\n",
      "<class 'pandas.core.frame.DataFrame'>\n",
      "RangeIndex: 28836 entries, 0 to 28835\n",
      "Data columns (total 42 columns):\n",
      " #   Column                      Non-Null Count  Dtype         \n",
      "---  ------                      --------------  -----         \n",
      " 0   CustomerID                  28836 non-null  object        \n",
      " 1   DateOfIncident              28836 non-null  datetime64[ns]\n",
      " 2   TypeOfIncident              28836 non-null  object        \n",
      " 3   TypeOfCollission            28836 non-null  object        \n",
      " 4   SeverityOfIncident          28836 non-null  object        \n",
      " 5   AuthoritiesContacted        26144 non-null  object        \n",
      " 6   IncidentState               28836 non-null  object        \n",
      " 7   IncidentCity                28836 non-null  object        \n",
      " 8   IncidentAddress             28836 non-null  object        \n",
      " 9   IncidentTime                28836 non-null  int64         \n",
      " 10  NumberOfVehicles            28836 non-null  int64         \n",
      " 11  PropertyDamage              28836 non-null  object        \n",
      " 12  BodilyInjuries              28836 non-null  int64         \n",
      " 13  Witnesses                   28790 non-null  Int64         \n",
      " 14  PoliceReport                28836 non-null  object        \n",
      " 15  AmountOfTotalClaim          28786 non-null  float64       \n",
      " 16  AmountOfInjuryClaim         28836 non-null  int64         \n",
      " 17  AmountOfPropertyClaim       28836 non-null  int64         \n",
      " 18  AmountOfVehicleDamage       28836 non-null  int64         \n",
      " 19  InsuredAge                  28836 non-null  int64         \n",
      " 20  InsuredZipCode              28836 non-null  int64         \n",
      " 21  InsuredGender               28806 non-null  object        \n",
      " 22  InsuredEducationLevel       28836 non-null  object        \n",
      " 23  InsuredOccupation           28836 non-null  object        \n",
      " 24  InsuredHobbies              28836 non-null  object        \n",
      " 25  CapitalGains                28836 non-null  int64         \n",
      " 26  CapitalLoss                 28836 non-null  int64         \n",
      " 27  Country                     28834 non-null  object        \n",
      " 28  InsurancePolicyNumber       28836 non-null  int64         \n",
      " 29  CustomerLoyaltyPeriod       28836 non-null  int64         \n",
      " 30  DateOfPolicyCoverage        28836 non-null  datetime64[ns]\n",
      " 31  InsurancePolicyState        28836 non-null  object        \n",
      " 32  Policy_CombinedSingleLimit  28836 non-null  object        \n",
      " 33  Policy_Deductible           28836 non-null  int64         \n",
      " 34  PolicyAnnualPremium         28836 non-null  float64       \n",
      " 35  UmbrellaLimit               28836 non-null  int64         \n",
      " 36  InsuredRelationship         28836 non-null  object        \n",
      " 37  VehicleID                   28836 non-null  object        \n",
      " 38  VehicleMake                 28836 non-null  object        \n",
      " 39  VehicleModel                28836 non-null  object        \n",
      " 40  VehicleYOM                  28836 non-null  Int64         \n",
      " 41  ReportedFraud               28836 non-null  object        \n",
      "dtypes: Int64(2), datetime64[ns](2), float64(2), int64(14), object(22)\n",
      "memory usage: 9.3+ MB\n"
     ]
    }
   ],
   "source": [
    "dateOfIncident = ColumnTypeConverter('DateOfIncident',target_type='datetime',errors='coerce')\n",
    "dateOfPolicyCoverage = ColumnTypeConverter('DateOfPolicyCoverage',target_type='datetime',errors='coerce')\n",
    "witnesses = ColumnTypeConverter('Witnesses',target_type='int64',errors='coerce')\n",
    "vehicleYom = ColumnTypeConverter('VehicleYOM',target_type='int64',errors='coerce')\n",
    "amountOfTotalClaim = ColumnTypeConverter('AmountOfTotalClaim',target_type='float64',errors='coerce')\n",
    "\n",
    "dateOfIncident.transform(merged_df)\n",
    "dateOfPolicyCoverage.transform(merged_df)\n",
    "witnesses.transform(merged_df)\n",
    "vehicleYom.transform(merged_df)\n",
    "amountOfTotalClaim.transform(merged_df)\n",
    "merged_df.info()"
   ]
  },
  {
   "cell_type": "markdown",
   "metadata": {},
   "source": [
    "##### ✅ Successful Conversions\n",
    "\n",
    "- **DateOfIncident** and **DateOfPolicyCoverage**:  \n",
    "  Fully converted to `datetime64[ns]`.\n",
    "\n",
    "- **VehicleYOM**:  \n",
    "  All values successfully converted to `Int64`.\n",
    "\n",
    "- **Witnesses**:  \n",
    "  Mostly successful; **46 missing** (`NaT` or `NaN`).\n",
    "\n",
    "- **AmountOfTotalClaim**:  \n",
    "  **50 values could not be converted** to `float64`.\n"
   ]
  },
  {
   "cell_type": "markdown",
   "metadata": {},
   "source": [
    "###  Split Policy_CombinedSingleLimit into two separate numeric columns and drop Policy_CombinedSingleLimit\n",
    "| Column                       | Reason to Drop                                                                                                                              |\n",
    "| ---------------------------- | ------------------------------------------------------------------------------------------------------------------------------------------- |\n",
    "| `CustomerID`                 | Pure identifier – no predictive value                                                                                                       |\n",
    "| `InsurancePolicyNumber`      | Unique ID – may cause overfitting or leakage                                                                                                |\n",
    "| `VehicleID`                  | Another unique identifier                                                                                                                   |\n",
    "| `Policy_CombinedSingleLimit` | Needs to be split (e.g. into `LimitPerPerson`, `LimitPerAccident`) to be useful. |\n"
   ]
  },
  {
   "cell_type": "code",
   "execution_count": 103,
   "metadata": {},
   "outputs": [
    {
     "name": "stdout",
     "output_type": "stream",
     "text": [
      "<class 'pandas.core.frame.DataFrame'>\n",
      "RangeIndex: 28836 entries, 0 to 28835\n",
      "Data columns (total 2 columns):\n",
      " #   Column            Non-Null Count  Dtype  \n",
      "---  ------            --------------  -----  \n",
      " 0   LimitPerPerson    28836 non-null  float64\n",
      " 1   LimitPerAccident  28836 non-null  float64\n",
      "dtypes: float64(2)\n",
      "memory usage: 450.7 KB\n"
     ]
    }
   ],
   "source": [
    "# Split Policy_CombinedSingleLimit into 2 colums and drop then Policy_CombinedSingleLimit\n",
    "merged_df[['LimitPerPerson', 'LimitPerAccident']] = merged_df['Policy_CombinedSingleLimit'].str.split('/', expand=True).astype(float)\n",
    "merged_df[['LimitPerPerson', 'LimitPerAccident']].info()"
   ]
  },
  {
   "cell_type": "markdown",
   "metadata": {},
   "source": [
    "##### ✅ Derived Features from `Policy_CombinedSingleLimit`\n",
    "\n",
    "The original column was split into two new float columns:\n",
    "\n",
    "| Column            | Non-Null Count | Dtype    | Description                         |\n",
    "|------------------|----------------|----------|-------------------------------------|\n",
    "| `LimitPerPerson` | 28836          | float64  | Insurance limit per person          |\n",
    "| `LimitPerAccident` | 28836        | float64  | Insurance limit per accident        |\n",
    "\n",
    "- All values successfully converted to `float64`\n",
    "- No missing values detected\n",
    "- Original column `Policy_CombinedSingleLimit` was dropped after transformation\n"
   ]
  },
  {
   "cell_type": "markdown",
   "metadata": {},
   "source": [
    "##### 🗑️ Dropped Irrelevant or High-Cardinality Columns\n",
    "\n",
    "To reduce noise and avoid overfitting, the following columns were removed:\n",
    "\n",
    "| Column                    | Reason for Removal                             |\n",
    "|---------------------------|------------------------------------------------|\n",
    "| `Policy_CombinedSingleLimit` | Replaced by `LimitPerPerson` and `LimitPerAccident` |\n",
    "| `CustomerID`             | Unique identifier, not useful for modeling     |\n",
    "| `InsurancePolicyNumber`  | High-cardinality identifier, non-informative   |\n",
    "| `VehicleID`              | Unique identifier, adds no predictive value    |\n",
    "\n"
   ]
  },
  {
   "cell_type": "code",
   "execution_count": 104,
   "metadata": {},
   "outputs": [
    {
     "data": {
      "text/plain": [
       "Index(['DateOfIncident', 'TypeOfIncident', 'TypeOfCollission',\n",
       "       'SeverityOfIncident', 'AuthoritiesContacted', 'IncidentState',\n",
       "       'IncidentCity', 'IncidentAddress', 'IncidentTime', 'NumberOfVehicles',\n",
       "       'PropertyDamage', 'BodilyInjuries', 'Witnesses', 'PoliceReport',\n",
       "       'AmountOfTotalClaim', 'AmountOfInjuryClaim', 'AmountOfPropertyClaim',\n",
       "       'AmountOfVehicleDamage', 'InsuredAge', 'InsuredZipCode',\n",
       "       'InsuredGender', 'InsuredEducationLevel', 'InsuredOccupation',\n",
       "       'InsuredHobbies', 'CapitalGains', 'CapitalLoss', 'Country',\n",
       "       'CustomerLoyaltyPeriod', 'DateOfPolicyCoverage', 'InsurancePolicyState',\n",
       "       'Policy_Deductible', 'PolicyAnnualPremium', 'UmbrellaLimit',\n",
       "       'InsuredRelationship', 'VehicleMake', 'VehicleModel', 'VehicleYOM',\n",
       "       'ReportedFraud', 'LimitPerPerson', 'LimitPerAccident'],\n",
       "      dtype='object')"
      ]
     },
     "execution_count": 104,
     "metadata": {},
     "output_type": "execute_result"
    }
   ],
   "source": [
    "merged_df.drop(['Policy_CombinedSingleLimit','CustomerID','InsurancePolicyNumber','VehicleID'] , axis=1,inplace=True)\n",
    "merged_df.columns"
   ]
  },
  {
   "cell_type": "code",
   "execution_count": 105,
   "metadata": {},
   "outputs": [
    {
     "ename": "SyntaxError",
     "evalue": "invalid syntax (1634674738.py, line 4)",
     "output_type": "error",
     "traceback": [
      "  \u001b[36mCell\u001b[39m\u001b[36m \u001b[39m\u001b[32mIn[105]\u001b[39m\u001b[32m, line 4\u001b[39m\n\u001b[31m    \u001b[39m\u001b[31m- Highly correlated features can cause **multicollinearity**, which may affect the performance and interpretability of linear models such as **logistic regression**.\u001b[39m\n             ^\n\u001b[31mSyntaxError\u001b[39m\u001b[31m:\u001b[39m invalid syntax\n"
     ]
    }
   ],
   "source": [
    "## 🔄 Dealing with Correlation and Collinearity (If Necessary)\n",
    "\n",
    "### 📌 Why It Matters\n",
    "- Highly correlated features can cause **multicollinearity**, which may affect the performance and interpretability of linear models such as **logistic regression**.\n",
    "- Reducing multicollinearity can lead to **more stable coefficients** and improved generalization.\n",
    "\n",
    "---\n",
    "\n",
    "\n"
   ]
  },
  {
   "cell_type": "code",
   "execution_count": 106,
   "metadata": {},
   "outputs": [
    {
     "data": {
      "image/png": "[encoded data removed]",
      "text/plain": [
       "<Figure size 1200x1000 with 2 Axes>"
      ]
     },
     "metadata": {},
     "output_type": "display_data"
    }
   ],
   "source": [
    "# Compute correlation matrix\n",
    "corr_matrix = merged_df.corr(numeric_only=True)\n",
    "\n",
    "# Plot heatmap\n",
    "plt.figure(figsize=(12, 10))\n",
    "plt.title(\"Feature Correlation Matrix\")\n",
    "plt.imshow(corr_matrix, cmap='coolwarm', interpolation='none')\n",
    "plt.colorbar()\n",
    "plt.xticks(range(len(corr_matrix)), corr_matrix.columns, rotation=90)\n",
    "plt.yticks(range(len(corr_matrix)), corr_matrix.columns)\n",
    "plt.tight_layout()\n",
    "plt.show()"
   ]
  },
  {
   "cell_type": "markdown",
   "metadata": {},
   "source": [
    "CustomerLoyaltyPeriod -- > Insured Age\n",
    "AmountOfVehicleDamage -- > AmountOfTotalClaim\n"
   ]
  },
  {
   "cell_type": "markdown",
   "metadata": {},
   "source": [
    "##### 📊 Correlation Analysis Summary\n",
    "\n",
    "A heatmap of the Pearson correlation matrix was generated for all numerical features. Below are key observations:\n",
    "\n",
    "##### 🔺 Strong Positive Correlations (r > 0.8)\n",
    "| Feature Pair                         | Interpretation                                  |\n",
    "|-------------------------------------|-------------------------------------------------|\n",
    "| `AmountOfTotalClaim` & `AmountOfVehicleDamage`   | Total claim heavily influenced by vehicle damage |\n",
    "| `AmountOfTotalClaim` & `AmountOfPropertyClaim`   | Property claim is a major component of total     |\n",
    "\n",
    "##### ⚠️ Suggested Actions\n",
    "- **Drop or Combine Highly Correlated Features**:  \n",
    "  Dropping `AmountOfTotalClaim` looks better choice  to avoid redundancy.\n",
    "\n",
    "##### ✅ Low/No Concerning Correlation Among Others\n",
    "- Most other feature pairs show low correlation, which is favorable for model stability.\n",
    "\n",
    "---\n",
    "\n",
    "\n"
   ]
  },
  {
   "cell_type": "code",
   "execution_count": 107,
   "metadata": {},
   "outputs": [
    {
     "data": {
      "text/plain": [
       "Index(['DateOfIncident', 'TypeOfIncident', 'TypeOfCollission',\n",
       "       'SeverityOfIncident', 'AuthoritiesContacted', 'IncidentState',\n",
       "       'IncidentCity', 'IncidentAddress', 'IncidentTime', 'NumberOfVehicles',\n",
       "       'PropertyDamage', 'BodilyInjuries', 'Witnesses', 'PoliceReport',\n",
       "       'AmountOfInjuryClaim', 'AmountOfPropertyClaim', 'AmountOfVehicleDamage',\n",
       "       'InsuredAge', 'InsuredZipCode', 'InsuredGender',\n",
       "       'InsuredEducationLevel', 'InsuredOccupation', 'InsuredHobbies',\n",
       "       'CapitalGains', 'CapitalLoss', 'Country', 'CustomerLoyaltyPeriod',\n",
       "       'DateOfPolicyCoverage', 'InsurancePolicyState', 'Policy_Deductible',\n",
       "       'PolicyAnnualPremium', 'UmbrellaLimit', 'InsuredRelationship',\n",
       "       'VehicleMake', 'VehicleModel', 'VehicleYOM', 'ReportedFraud',\n",
       "       'LimitPerPerson', 'LimitPerAccident'],\n",
       "      dtype='object')"
      ]
     },
     "execution_count": 107,
     "metadata": {},
     "output_type": "execute_result"
    }
   ],
   "source": [
    "merged_df.drop(['AmountOfTotalClaim'] , axis=1,inplace=True)\n",
    "merged_df.columns"
   ]
  },
  {
   "attachments": {},
   "cell_type": "markdown",
   "metadata": {},
   "source": [
    "## 4. Technique 1\n",
    "**Create a new subheading for each stage that you do from the following items. Enter your code in the cells below the subheading.**\n",
    "\n",
    "- Motivation for choosing the technique and schematic figure of the analysis process (100-200 words)\n",
    "- Setting hyperparameters (rationale)\n",
    "- Optimising the hyperparameters appropriately\n",
    "- Performance metrics for training set\n",
    "- Other items necessary for the technique\n",
    "- Deal with class imbalance, if necessary, if not done above"
   ]
  },
  {
   "cell_type": "markdown",
   "metadata": {},
   "source": [
    "### 4.1 Motivation for choosing the technique and schematic figure of the analysis process"
   ]
  },
  {
   "cell_type": "markdown",
   "metadata": {},
   "source": []
  },
  {
   "cell_type": "markdown",
   "metadata": {},
   "source": []
  },
  {
   "cell_type": "markdown",
   "metadata": {},
   "source": [
    "### Setting hyperparameters (rationale)"
   ]
  },
  {
   "cell_type": "code",
   "execution_count": null,
   "metadata": {},
   "outputs": [],
   "source": []
  },
  {
   "attachments": {},
   "cell_type": "markdown",
   "metadata": {},
   "source": [
    "## 5. Technique 2\n",
    "**Create a new subheading for each stage that you do from the following items. Enter your code in the cells below the subheading.**\n",
    "\n",
    "- Motivation for choosing the technique and schematic figure of the analysis process (100-200 words)\n",
    "- Setting hyperparameters (rationale)\n",
    "- Optimising the hyperparameters appropriately\n",
    "- Performance metrics for training set\n",
    "- Other items necessary for the technique\n",
    "- Deal with class imbalance, if necessary, if not done above"
   ]
  },
  {
   "cell_type": "markdown",
   "metadata": {},
   "source": [
    "### 5.1 Motivation for choosing the technique and schematic figure of the analysis process"
   ]
  },
  {
   "cell_type": "markdown",
   "metadata": {},
   "source": []
  },
  {
   "cell_type": "markdown",
   "metadata": {},
   "source": []
  },
  {
   "cell_type": "markdown",
   "metadata": {},
   "source": [
    "### Setting hyperparameters (rationale)"
   ]
  },
  {
   "cell_type": "code",
   "execution_count": null,
   "metadata": {},
   "outputs": [],
   "source": []
  },
  {
   "attachments": {},
   "cell_type": "markdown",
   "metadata": {},
   "source": [
    "## 6. Comparison of metrics performance for testing\n",
    "\n",
    "**Create a new subheading for each stage that you do from the following items. Enter your code in the cells below the subheading.**\n",
    "\n",
    "- Use of nested cross-validation for both techniques to deal with overfitting model selection and model comparison\n",
    "- Use appropriate metrics for the testing set\n",
    "- Use an appropriate model selection visualisation curve (ROC, PR, etc.) that is suitable for the problem at hand\n",
    "- Checking for overfitting"
   ]
  },
  {
   "cell_type": "code",
   "execution_count": null,
   "metadata": {},
   "outputs": [],
   "source": []
  },
  {
   "attachments": {},
   "cell_type": "markdown",
   "metadata": {},
   "source": [
    "## 7. Final recommendation of the best model\n",
    "\n",
    "**Create a new subheading for each item you discuss from the following items.**\n",
    "\n",
    "- Technical perspective- overfitting discussion, complexity and efficiency\n",
    "- Business perspective- results interpretation, relevance and balance with a technical perspective"
   ]
  },
  {
   "cell_type": "markdown",
   "metadata": {},
   "source": []
  },
  {
   "attachments": {},
   "cell_type": "markdown",
   "metadata": {},
   "source": [
    "## 8. Conclusion\n",
    "\n",
    "**Create a new subheading for each item you discuss from the following items.**\n",
    "\n",
    "- What has been successfully accomplished and what has not\n",
    "- Reflect back on the analysis and see what you could have done differently if you were to do the project again\n",
    "- Add a wish list of future work that you would do to take the project forward\n"
   ]
  },
  {
   "cell_type": "code",
   "execution_count": null,
   "metadata": {},
   "outputs": [],
   "source": []
  }
 ],
 "metadata": {
  "kernelspec": {
   "display_name": "Python 3 (ipykernel)",
   "language": "python",
   "name": "python3"
  },
  "language_info": {
   "codemirror_mode": {
    "name": "ipython",
    "version": 3
   },
   "file_extension": ".py",
   "mimetype": "text/x-python",
   "name": "python",
   "nbconvert_exporter": "python",
   "pygments_lexer": "ipython3",
   "version": "3.12.2"
  }
 },
 "nbformat": 4,
 "nbformat_minor": 4
}
