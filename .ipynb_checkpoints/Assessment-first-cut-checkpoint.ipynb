{
 "cells": [
  {
   "cell_type": "markdown",
   "metadata": {},
   "source": [
    "# OCOM510M Data Science: Assessment 2"
   ]
  },
  {
   "cell_type": "markdown",
   "metadata": {},
   "source": [
    "Student ID:"
   ]
  },
  {
   "cell_type": "markdown",
   "metadata": {},
   "source": [
    "## 1. Aims, objectives and plan\n",
    "Although we have already stated what is required, please formally state the aims and objectives of the project in your own words. 100-200 words.\n",
    "\n",
    "Please demonstrate how you have conducted the project with a simple Gantt chart."
   ]
  },
  {
   "cell_type": "markdown",
   "metadata": {},
   "source": []
  },
  {
   "cell_type": "markdown",
   "metadata": {},
   "source": [
    "## 2. Understanding the case study"
   ]
  },
  {
   "cell_type": "markdown",
   "metadata": {},
   "source": [
    "###  Case study analysis\n",
    "State the key points that you found in the case and how you intend to deal with them appropriately to address the client's needs. (You can include more than four points.) 200-300 words.\n",
    "\n",
    "1.\n",
    "1. \n",
    "1. \n",
    "1. \n",
    "\n"
   ]
  },
  {
   "attachments": {},
   "cell_type": "markdown",
   "metadata": {},
   "source": [
    "## 3. Pre-processing applied\n",
    "\n",
    "**Create a new subheading for each stage that you do from the following items. Enter your code in the cells below the subheading.**\n",
    "\n",
    "- Merging, pivoting and melting, if necessary\n",
    "- Preparing the labels appropriately, if necessary\n",
    "- Dealing with missing values (imputation, filtering) without leaking, if necessary\n",
    "- Dealing with duplicate values, if necessary\n",
    "- Scaling, without leaking, if necessary\n",
    "- Dealing with correlation and collinearity, if necessary\n",
    "- Variance analysis, if necessary\n",
    "- Appropriate feature selection such as RFE, if necessary\n",
    "- Appropriate feature extraction, if necessary\n",
    "- Identifying and dealing with class imbalance, if necessary\n",
    "- Identifying and dealing with outliers, if necessary\n",
    "- Categorical and numerical encoding if necessary\n",
    "- Other pre-processing "
   ]
  },
  {
   "cell_type": "markdown",
   "metadata": {},
   "source": [
    "### Merging, pivoting and melting, if necessary"
   ]
  },
  {
   "cell_type": "code",
   "execution_count": null,
   "metadata": {},
   "outputs": [],
   "source": []
  },
  {
   "cell_type": "code",
   "execution_count": null,
   "metadata": {},
   "outputs": [],
   "source": []
  },
  {
   "attachments": {},
   "cell_type": "markdown",
   "metadata": {},
   "source": [
    "## 4. Technique 1\n",
    "**Create a new subheading for each stage that you do from the following items. Enter your code in the cells below the subheading.**\n",
    "\n",
    "- Motivation for choosing the technique and schematic figure of the analysis process (100-200 words)\n",
    "- Setting hyperparameters (rationale)\n",
    "- Optimising the hyperparameters appropriately\n",
    "- Performance metrics for training set\n",
    "- Other items necessary for the technique\n",
    "- Deal with class imbalance, if necessary, if not done above"
   ]
  },
  {
   "cell_type": "markdown",
   "metadata": {},
   "source": [
    "### 4.1 Motivation for choosing the technique and schematic figure of the analysis process"
   ]
  },
  {
   "cell_type": "markdown",
   "metadata": {},
   "source": []
  },
  {
   "cell_type": "markdown",
   "metadata": {},
   "source": []
  },
  {
   "cell_type": "markdown",
   "metadata": {},
   "source": [
    "### Setting hyperparameters (rationale)"
   ]
  },
  {
   "cell_type": "code",
   "execution_count": null,
   "metadata": {},
   "outputs": [],
   "source": []
  },
  {
   "attachments": {},
   "cell_type": "markdown",
   "metadata": {},
   "source": [
    "## 5. Technique 2\n",
    "**Create a new subheading for each stage that you do from the following items. Enter your code in the cells below the subheading.**\n",
    "\n",
    "- Motivation for choosing the technique and schematic figure of the analysis process (100-200 words)\n",
    "- Setting hyperparameters (rationale)\n",
    "- Optimising the hyperparameters appropriately\n",
    "- Performance metrics for training set\n",
    "- Other items necessary for the technique\n",
    "- Deal with class imbalance, if necessary, if not done above"
   ]
  },
  {
   "cell_type": "markdown",
   "metadata": {},
   "source": [
    "### 5.1 Motivation for choosing the technique and schematic figure of the analysis process"
   ]
  },
  {
   "cell_type": "markdown",
   "metadata": {},
   "source": []
  },
  {
   "cell_type": "markdown",
   "metadata": {},
   "source": []
  },
  {
   "cell_type": "markdown",
   "metadata": {},
   "source": [
    "### Setting hyperparameters (rationale)"
   ]
  },
  {
   "cell_type": "code",
   "execution_count": null,
   "metadata": {},
   "outputs": [],
   "source": []
  },
  {
   "attachments": {},
   "cell_type": "markdown",
   "metadata": {},
   "source": [
    "## 6. Comparison of metrics performance for testing\n",
    "\n",
    "**Create a new subheading for each stage that you do from the following items. Enter your code in the cells below the subheading.**\n",
    "\n",
    "- Use of nested cross-validation for both techniques to deal with overfitting model selection and model comparison\n",
    "- Use appropriate metrics for the testing set\n",
    "- Use an appropriate model selection visualisation curve (ROC, PR, etc.) that is suitable for the problem at hand\n",
    "- Checking for overfitting"
   ]
  },
  {
   "cell_type": "code",
   "execution_count": null,
   "metadata": {},
   "outputs": [],
   "source": []
  },
  {
   "attachments": {},
   "cell_type": "markdown",
   "metadata": {},
   "source": [
    "## 7. Final recommendation of the best model\n",
    "\n",
    "**Create a new subheading for each item you discuss from the following items.**\n",
    "\n",
    "- Technical perspective- overfitting discussion, complexity and efficiency\n",
    "- Business perspective- results interpretation, relevance and balance with a technical perspective"
   ]
  },
  {
   "cell_type": "markdown",
   "metadata": {},
   "source": []
  },
  {
   "attachments": {},
   "cell_type": "markdown",
   "metadata": {},
   "source": [
    "## 8. Conclusion\n",
    "\n",
    "**Create a new subheading for each item you discuss from the following items.**\n",
    "\n",
    "- What has been successfully accomplished and what has not\n",
    "- Reflect back on the analysis and see what you could have done differently if you were to do the project again\n",
    "- Add a wish list of future work that you would do to take the project forward\n"
   ]
  },
  {
   "cell_type": "code",
   "execution_count": null,
   "metadata": {},
   "outputs": [],
   "source": []
  }
 ],
 "metadata": {
  "kernelspec": {
   "display_name": "Python 3 (ipykernel)",
   "language": "python",
   "name": "python3"
  },
  "language_info": {
   "codemirror_mode": {
    "name": "ipython",
    "version": 3
   },
   "file_extension": ".py",
   "mimetype": "text/x-python",
   "name": "python",
   "nbconvert_exporter": "python",
   "pygments_lexer": "ipython3",
   "version": "3.9.13"
  }
 },
 "nbformat": 4,
 "nbformat_minor": 4
}
